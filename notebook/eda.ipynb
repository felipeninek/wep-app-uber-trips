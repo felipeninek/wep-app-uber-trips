{
 "cells": [
  {
   "cell_type": "code",
   "execution_count": 67,
   "metadata": {},
   "outputs": [
    {
     "name": "stdout",
     "output_type": "stream",
     "text": [
      "Mapa salvo como 'mapa_origem_destino_filtrado.html'.\n"
     ]
    },
    {
     "name": "stderr",
     "output_type": "stream",
     "text": [
      "C:\\Users\\USER\\AppData\\Local\\Temp\\ipykernel_16000\\2402759745.py:39: SettingWithCopyWarning: \n",
      "A value is trying to be set on a copy of a slice from a DataFrame.\n",
      "Try using .loc[row_indexer,col_indexer] = value instead\n",
      "\n",
      "See the caveats in the documentation: https://pandas.pydata.org/pandas-docs/stable/user_guide/indexing.html#returning-a-view-versus-a-copy\n",
      "  df_filtrado['Cor'] = df_filtrado['Preco'].apply(lambda x: 'green' if x > media_preco else 'red')\n"
     ]
    }
   ],
   "source": [
    "import pandas as pd\n",
    "from geopy.geocoders import Nominatim\n",
    "import folium\n",
    "\n",
    "# Dados fornecidos\n",
    "df = pd.read_csv('dados/dados_tratados.csv', sep=';', encoding='utf-8')\n",
    "\n",
    "# Funções de filtro\n",
    "def filtrar_por_hora(df, hora_inicio, hora_fim):\n",
    "    return df[(df['DataHora'].dt.time >= pd.to_datetime(hora_inicio).time()) & \n",
    "              (df['DataHora'].dt.time <= pd.to_datetime(hora_fim).time())]\n",
    "\n",
    "def filtrar_por_dia_semana(df, dia_semana):\n",
    "    return df[df['DiaSemana'] == dia_semana]\n",
    "\n",
    "def filtrar_por_semana_mes(df, semana_mes):\n",
    "    return df[df['SemanaMes'] == semana_mes]\n",
    "\n",
    "def filtrar_por_mes_ano(df, mes_ano):\n",
    "    return df[df['MesAno'] == mes_ano]\n",
    "\n",
    "# Convertendo a coluna 'DataHora' para datetime\n",
    "df['DataHora'] = pd.to_datetime(df['DataHora'])\n",
    "\n",
    "df_filtrado = df.copy()\n",
    "\n",
    "# Aplicar filtro de hora\n",
    "#df_filtrado = filtrar_por_hora(df, '06:00:00', '23:00:00')\n",
    "\n",
    "# Aplicar outros filtros\n",
    "#df_filtrado = filtrar_por_dia_semana(df_filtrado, 'Monday')  # Exemplo: Filtrar por segunda-feira\n",
    "#df_filtrado = filtrar_por_semana_mes(df_filtrado, 1)  # Exemplo: Filtrar pela primeira semana do mês\n",
    "#df_filtrado = filtrar_por_mes_ano(df_filtrado, 8)  # Exemplo: Filtrar pelo mês de agosto\n",
    "\n",
    "# Calcular a média dos preços no DataFrame filtrado\n",
    "media_preco = df_filtrado['Preco'].mean()\n",
    "\n",
    "# Adicionar uma coluna para a cor do marcador\n",
    "df_filtrado['Cor'] = df_filtrado['Preco'].apply(lambda x: 'green' if x > media_preco else 'red')\n",
    "\n",
    "# Criar um mapa centrado em São Paulo com estilo mais limpo\n",
    "mapa = folium.Map(location=[-23.5505, -46.6333], zoom_start=12, tiles='CartoDB positron')\n",
    "\n",
    "# Adicionar marcadores de origem e destino com cores baseadas no preço\n",
    "for _, row in df_filtrado.iterrows():\n",
    "    popup_text = f\"Preço: R${row['Preco']:.2f}<br>Média: R${media_preco:.2f}\"\n",
    "\n",
    "    if pd.notna(row['LatOrigem']) and pd.notna(row['LonOrigem']):\n",
    "        folium.Marker(\n",
    "            location=[row['LatOrigem'], row['LonOrigem']],\n",
    "            popup=popup_text,\n",
    "            icon=folium.Icon(icon='circle', color=row['Cor'])\n",
    "        ).add_to(mapa)\n",
    "        \n",
    "    if pd.notna(row['LatDestino']) and pd.notna(row['LonDestino']):\n",
    "        folium.Marker(\n",
    "            location=[row['LatDestino'], row['LonDestino']],\n",
    "            popup=popup_text,\n",
    "            icon=folium.Icon(icon='circle', color=row['Cor'])\n",
    "        ).add_to(mapa)\n",
    "\n",
    "# Salvar o mapa em um arquivo HTML\n",
    "mapa.save('mapa_origem_destino_filtrado.html')\n",
    "print(\"Mapa salvo como 'mapa_origem_destino_filtrado.html'.\")\n"
   ]
  }
 ],
 "metadata": {
  "kernelspec": {
   "display_name": "venv",
   "language": "python",
   "name": "python3"
  },
  "language_info": {
   "codemirror_mode": {
    "name": "ipython",
    "version": 3
   },
   "file_extension": ".py",
   "mimetype": "text/x-python",
   "name": "python",
   "nbconvert_exporter": "python",
   "pygments_lexer": "ipython3",
   "version": "3.12.1"
  }
 },
 "nbformat": 4,
 "nbformat_minor": 2
}
